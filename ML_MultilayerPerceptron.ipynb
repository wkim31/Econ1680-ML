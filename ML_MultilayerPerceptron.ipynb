{
 "cells": [
  {
   "cell_type": "markdown",
   "id": "fdd287ef-0174-4847-a507-7adc35ba6526",
   "metadata": {},
   "source": [
    "# Failed Banks ML Project\n",
    "\n",
    "## Econ 1680: MLTA and Econ\n",
    "\n",
    "#### Name: Lena Kim\n",
    "\n",
    "Research Question: Given a failed bank’s balance sheet metrics, how can we predict\n",
    "whether it is acquired by a national bank, a regional bank, or not acquired at all? Which\n",
    "metrics contribute the most weight to this decision?\n",
    "\n",
    "IMPORTANT: This notebook focuses on the Multilayer Perceptron Method in order to answer the classification problem posed above. I will import code from the preliminary/overarching notebook ML_BASES with the \"run\" method.\n"
   ]
  },
  {
   "cell_type": "code",
   "execution_count": 41,
   "id": "3a99401b-493c-4f2e-a816-98d2933a92c7",
   "metadata": {},
   "outputs": [],
   "source": [
    "#econ1680MLProject\n",
    "%run ML_BASES.ipynb"
   ]
  },
  {
   "cell_type": "code",
   "execution_count": 42,
   "id": "be267a24-afe3-4e9d-8ca7-306cd7208517",
   "metadata": {},
   "outputs": [],
   "source": [
    "from sklearn.neural_network import MLPClassifier\n"
   ]
  },
  {
   "cell_type": "markdown",
   "id": "63630121-2065-4622-acc3-5a668b20b96c",
   "metadata": {},
   "source": [
    "## Data Preprocessing for Neural Networks"
   ]
  },
  {
   "cell_type": "code",
   "execution_count": 43,
   "id": "6d14ae95-7e93-46f1-9afe-52614868db89",
   "metadata": {},
   "outputs": [
    {
     "name": "stdout",
     "output_type": "stream",
     "text": [
      "Number of training examples: m_train = 103\n",
      "Number of testing examples: m_test = 26\n",
      "Number of features for each observation = 9\n",
      "X_train shape: (103, 9)\n",
      "y_train shape: (103,)\n",
      "X_test shape: (26, 9)\n",
      "y_test shape: (26,)\n"
     ]
    }
   ],
   "source": [
    "#Checking dimensions of model to prevent bugs later on:\n",
    "m_train = X_train.shape[0]\n",
    "m_test =  X_test.shape[0]\n",
    "num_features = X_train.shape[1]\n",
    "\n",
    "print (\"Number of training examples: m_train = \" + str(m_train))\n",
    "print (\"Number of testing examples: m_test = \" + str(m_test))\n",
    "print (\"Number of features for each observation = \" + str(num_features))\n",
    "print (\"X_train shape: \" + str(X_train.shape))\n",
    "print (\"y_train shape: \" + str(y_train.shape))\n",
    "print (\"X_test shape: \" + str(X_test.shape))\n",
    "print (\"y_test shape: \" + str(y_test.shape))"
   ]
  },
  {
   "cell_type": "code",
   "execution_count": 44,
   "id": "98b27ba0-f3e5-4e5f-998f-079ed6635fc9",
   "metadata": {},
   "outputs": [],
   "source": [
    "# Set upKfolds:\n",
    "num_folds = 5\n",
    "kf = KFold(n_splits=num_folds, shuffle=True, random_state=1680)\n",
    "#Preprocess the data:\n",
    "scaler = StandardScaler()\n",
    "X_train_scaled = scaler.fit_transform(X_train)\n",
    "X_test_scaled = scaler.transform(X_test)\n",
    "\n",
    "#Fixes found when running the models:\n",
    "#jupyter suggested to impute NaN features. After doing that:\n",
    "imputer = SimpleImputer(strategy='mean')\n",
    "\n",
    "#Fit the imputer:\n",
    "\n",
    "X_train = pd.DataFrame(imputer.fit_transform(X_train), columns=X_train.columns)\n",
    "X_test = pd.DataFrame(imputer.transform(X_test), columns=X_test.columns)\n"
   ]
  },
  {
   "cell_type": "markdown",
   "id": "3ae06f0c-6a97-4dbc-89f4-1e9e479ad4e7",
   "metadata": {},
   "source": [
    "# MLP Classifier: "
   ]
  },
  {
   "cell_type": "code",
   "execution_count": 45,
   "id": "95d06d48-6272-4be0-bacb-b1058cbdd985",
   "metadata": {},
   "outputs": [
    {
     "name": "stdout",
     "output_type": "stream",
     "text": [
      "Best Learning Rate: 0.01\n",
      "Iteration 1, loss = 1.13363944\n",
      "Iteration 2, loss = 1.11868669\n",
      "Iteration 3, loss = 1.10601981\n",
      "Iteration 4, loss = 1.09475333\n",
      "Iteration 5, loss = 1.08488888\n",
      "Iteration 6, loss = 1.07640956\n",
      "Iteration 7, loss = 1.06918398\n",
      "Iteration 8, loss = 1.06268695\n",
      "Iteration 9, loss = 1.05758446\n",
      "Iteration 10, loss = 1.05337572\n",
      "Iteration 11, loss = 1.04997502\n",
      "Iteration 12, loss = 1.04730995\n",
      "Iteration 13, loss = 1.04531495\n",
      "Iteration 14, loss = 1.04392511\n",
      "Iteration 15, loss = 1.04307078\n",
      "Iteration 16, loss = 1.04267364\n",
      "Iteration 17, loss = 1.04264484\n",
      "Iteration 18, loss = 1.04288637\n",
      "Iteration 19, loss = 1.04329577\n",
      "Iteration 20, loss = 1.04377380\n",
      "Iteration 21, loss = 1.04269558\n",
      "Iteration 22, loss = 1.05146588\n",
      "Iteration 23, loss = 1.04928217\n",
      "Iteration 24, loss = 1.04936691\n",
      "Iteration 25, loss = 1.04819261\n",
      "Iteration 26, loss = 1.04696156\n",
      "Iteration 27, loss = 1.04554996\n",
      "Training loss did not improve more than tol=0.000100 for 10 consecutive epochs. Stopping.\n",
      "MLP accuracy train: 0.49514563106796117\n",
      "MLP accuracy test: 0.38461538461538464\n"
     ]
    }
   ],
   "source": [
    "#create a Multi-layer Perceptron (MLP) classifier:\n",
    "\n",
    "#Let's tune the learning rate:\n",
    "learning_rates = [0.01, 0.1, 1.0, 10.0, 15.0]\n",
    "\n",
    "#create an MLPClassifier for each learning rate:\n",
    "models = []\n",
    "for lr in learning_rates:\n",
    "    model = MLPClassifier(hidden_layer_sizes=(8, 4),\n",
    "                          random_state=1680,\n",
    "                          activation='logistic',\n",
    "                          solver='adam',\n",
    "                          max_iter=500,\n",
    "                          verbose=False,\n",
    "                          learning_rate_init=lr)\n",
    "    models.append(model)\n",
    "\n",
    "#fit the model on each learning rate\n",
    "loss_values = []\n",
    "for lr, model in zip(learning_rates, models):\n",
    "    model.fit(X_train, y_train)\n",
    "    loss_values.append((lr, model.loss_))\n",
    "\n",
    "\n",
    "#find the learning rate that minimizes the loss:\n",
    "best_learning_rate = min(loss_values, key=lambda x: x[1])[0]\n",
    "print('Best Learning Rate:',  best_learning_rate)\n",
    "\n",
    "best_model = MLPClassifier(hidden_layer_sizes=(8, 4),\n",
    "                           random_state=1680,\n",
    "                           activation='logistic',\n",
    "                           solver='adam',\n",
    "                           max_iter=500,\n",
    "                           verbose=True,\n",
    "                           learning_rate_init=best_learning_rate)\n",
    "best_model.fit(X_train, y_train)\n",
    "\n",
    "#best models:\n",
    "print('MLP accuracy train:', accuracy_score(y_train, best_model.predict(X_train)))\n",
    "print('MLP accuracy test:', accuracy_score(y_test, best_model.predict(X_test)))"
   ]
  },
  {
   "cell_type": "code",
   "execution_count": 46,
   "id": "7c1b96fc-06e2-4fdc-9451-41d2ef7d1167",
   "metadata": {},
   "outputs": [
    {
     "data": {
      "image/png": "[encoded data removed]",
      "text/plain": [
       "<Figure size 640x480 with 1 Axes>"
      ]
     },
     "metadata": {},
     "output_type": "display_data"
    }
   ],
   "source": [
    "plt.plot([lr for lr, _ in loss_values], [loss for _, loss in loss_values])\n",
    "plt.xlabel('Learning Rate')\n",
    "plt.ylabel('Loss')\n",
    "plt.title('Learning Rate vs. Loss')\n",
    "plt.savefig('Learning Rate')\n",
    "plt.show()"
   ]
  },
  {
   "cell_type": "markdown",
   "id": "f67d783b-fa06-459a-b474-0c526d282dcf",
   "metadata": {},
   "source": [
    "# Building a simple neural network from scratch using TensorFlow:\n",
    "Step 1: Define model structure with sigmoid function"
   ]
  },
  {
   "cell_type": "code",
   "execution_count": 81,
   "id": "bddc51a3-72c8-4f1b-87e9-eb423aa50a78",
   "metadata": {},
   "outputs": [
    {
     "name": "stdout",
     "output_type": "stream",
     "text": [
      "Epoch 1/20\n"
     ]
    },
    {
     "name": "stderr",
     "output_type": "stream",
     "text": [
      "2024-03-30 14:36:08.045470: W tensorflow/tsl/platform/profile_utils/cpu_utils.cc:128] Failed to get CPU frequency: 0 Hz\n"
     ]
    },
    {
     "name": "stdout",
     "output_type": "stream",
     "text": [
      "3/3 [==============================] - 0s 42ms/step - loss: nan - accuracy: 0.3478 - val_loss: nan - val_accuracy: 0.5455\n",
      "Epoch 2/20\n",
      "3/3 [==============================] - 0s 7ms/step - loss: nan - accuracy: 0.4891 - val_loss: nan - val_accuracy: 0.5455\n",
      "Epoch 3/20\n",
      "3/3 [==============================] - 0s 8ms/step - loss: nan - accuracy: 0.4891 - val_loss: nan - val_accuracy: 0.5455\n",
      "Epoch 4/20\n",
      "3/3 [==============================] - 0s 9ms/step - loss: nan - accuracy: 0.4891 - val_loss: nan - val_accuracy: 0.5455\n",
      "Epoch 5/20\n",
      "3/3 [==============================] - 0s 10ms/step - loss: nan - accuracy: 0.4891 - val_loss: nan - val_accuracy: 0.5455\n",
      "Epoch 6/20\n",
      "3/3 [==============================] - 0s 11ms/step - loss: nan - accuracy: 0.4891 - val_loss: nan - val_accuracy: 0.5455\n",
      "Epoch 7/20\n",
      "3/3 [==============================] - 0s 11ms/step - loss: nan - accuracy: 0.4891 - val_loss: nan - val_accuracy: 0.5455\n",
      "Epoch 8/20\n",
      "3/3 [==============================] - 0s 11ms/step - loss: nan - accuracy: 0.4891 - val_loss: nan - val_accuracy: 0.5455\n",
      "Epoch 9/20\n",
      "3/3 [==============================] - 0s 11ms/step - loss: nan - accuracy: 0.4891 - val_loss: nan - val_accuracy: 0.5455\n",
      "Epoch 10/20\n",
      "3/3 [==============================] - 0s 11ms/step - loss: nan - accuracy: 0.4891 - val_loss: nan - val_accuracy: 0.5455\n",
      "Epoch 11/20\n",
      "3/3 [==============================] - 0s 11ms/step - loss: nan - accuracy: 0.4891 - val_loss: nan - val_accuracy: 0.5455\n",
      "Epoch 12/20\n",
      "3/3 [==============================] - 0s 10ms/step - loss: nan - accuracy: 0.4891 - val_loss: nan - val_accuracy: 0.5455\n",
      "Epoch 13/20\n",
      "3/3 [==============================] - 0s 7ms/step - loss: nan - accuracy: 0.4891 - val_loss: nan - val_accuracy: 0.5455\n",
      "Epoch 14/20\n",
      "3/3 [==============================] - 0s 8ms/step - loss: nan - accuracy: 0.4891 - val_loss: nan - val_accuracy: 0.5455\n",
      "Epoch 15/20\n",
      "3/3 [==============================] - 0s 8ms/step - loss: nan - accuracy: 0.4891 - val_loss: nan - val_accuracy: 0.5455\n",
      "Epoch 16/20\n",
      "3/3 [==============================] - 0s 8ms/step - loss: nan - accuracy: 0.4891 - val_loss: nan - val_accuracy: 0.5455\n",
      "Epoch 17/20\n",
      "3/3 [==============================] - 0s 8ms/step - loss: nan - accuracy: 0.4891 - val_loss: nan - val_accuracy: 0.5455\n",
      "Epoch 18/20\n",
      "3/3 [==============================] - 0s 8ms/step - loss: nan - accuracy: 0.4891 - val_loss: nan - val_accuracy: 0.5455\n",
      "Epoch 19/20\n",
      "3/3 [==============================] - 0s 10ms/step - loss: nan - accuracy: 0.4891 - val_loss: nan - val_accuracy: 0.5455\n",
      "Epoch 20/20\n",
      "3/3 [==============================] - 0s 16ms/step - loss: nan - accuracy: 0.4891 - val_loss: nan - val_accuracy: 0.5455\n",
      "1/1 [==============================] - 0s 12ms/step - loss: nan - accuracy: 0.3846\n",
      "Test Accuracy: 0.38461539149284363\n"
     ]
    }
   ],
   "source": [
    "import tensorflow as tf\n",
    "from sklearn.model_selection import train_test_split\n",
    "from sklearn.preprocessing import StandardScaler\n",
    "\n",
    "# Splitting data into train and test sets\n",
    "X_train, X_test, y_train, y_test = train_test_split(X, y, test_size=0.2, random_state=42)\n",
    "\n",
    "# Standardizing features\n",
    "scaler = StandardScaler()\n",
    "X_train_scaled = scaler.fit_transform(X_train)\n",
    "X_test_scaled = scaler.transform(X_test)\n",
    "\n",
    "# Define the model\n",
    "model = tf.keras.Sequential([\n",
    "    tf.keras.layers.Dense(64, activation='relu', input_shape=(X_train_scaled.shape[1],)),\n",
    "    tf.keras.layers.Dense(32, activation='relu'),\n",
    "    tf.keras.layers.Dense(3, activation='softmax')  # 3 classes for multinomial classification\n",
    "])\n",
    "\n",
    "# Compile the model\n",
    "model.compile(optimizer='adam',\n",
    "              loss='sparse_categorical_crossentropy',  # Cross-entropy loss for multiclass classification\n",
    "              metrics=['accuracy'])\n",
    "\n",
    "# Train the model\n",
    "history = model.fit(X_train_scaled, y_train, epochs=20, batch_size=32, validation_split=0.1)\n",
    "\n",
    "# Evaluate the model on test data\n",
    "test_loss, test_accuracy = model.evaluate(X_test_scaled, y_test)\n",
    "print(\"Test Accuracy:\", test_accuracy)"
   ]
  },
  {
   "cell_type": "code",
   "execution_count": null,
   "id": "46ed447e-e6fa-4203-8ba8-58999578cb49",
   "metadata": {},
   "outputs": [],
   "source": []
  }
 ],
 "metadata": {
  "kernelspec": {
   "display_name": "Python 3 (ipykernel)",
   "language": "python",
   "name": "python3"
  },
  "language_info": {
   "codemirror_mode": {
    "name": "ipython",
    "version": 3
   },
   "file_extension": ".py",
   "mimetype": "text/x-python",
   "name": "python",
   "nbconvert_exporter": "python",
   "pygments_lexer": "ipython3",
   "version": "3.9.18"
  }
 },
 "nbformat": 4,
 "nbformat_minor": 5
}
