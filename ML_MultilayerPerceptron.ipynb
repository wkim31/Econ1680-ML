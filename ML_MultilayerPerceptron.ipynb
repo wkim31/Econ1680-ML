{
 "cells": [
  {
   "cell_type": "markdown",
   "id": "fdd287ef-0174-4847-a507-7adc35ba6526",
   "metadata": {},
   "source": [
    "# Failed Banks ML Project\n",
    "\n",
    "## Econ 1680: MLTA and Econ\n",
    "\n",
    "#### Name: Lena Kim\n",
    "\n",
    "Research Question: Given a failed bank’s balance sheet metrics, how can we predict\n",
    "whether it is acquired by a national bank, a regional bank, or not acquired at all? Which\n",
    "metrics contribute the most weight to this decision?\n",
    "\n",
    "IMPORTANT: This notebook focuses on the Multilayer Perceptron Method in order to answer the classification problem posed above. I will import code from the preliminary/overarching notebook with the \"run\" method.\n"
   ]
  },
  {
   "cell_type": "code",
   "execution_count": 1,
   "id": "3a99401b-493c-4f2e-a816-98d2933a92c7",
   "metadata": {},
   "outputs": [],
   "source": [
    "#econ1680MLProject\n",
    "%run ML_BASES.ipynb"
   ]
  },
  {
   "cell_type": "code",
   "execution_count": null,
   "id": "60eed4c7-349e-46de-b4c7-bec50b30f6d5",
   "metadata": {},
   "outputs": [],
   "source": []
  }
 ],
 "metadata": {
  "kernelspec": {
   "display_name": "Python 3 (ipykernel)",
   "language": "python",
   "name": "python3"
  },
  "language_info": {
   "codemirror_mode": {
    "name": "ipython",
    "version": 3
   },
   "file_extension": ".py",
   "mimetype": "text/x-python",
   "name": "python",
   "nbconvert_exporter": "python",
   "pygments_lexer": "ipython3",
   "version": "3.9.18"
  }
 },
 "nbformat": 4,
 "nbformat_minor": 5
}
